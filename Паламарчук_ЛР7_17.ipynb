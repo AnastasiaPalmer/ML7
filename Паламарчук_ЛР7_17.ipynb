{
  "nbformat": 4,
  "nbformat_minor": 0,
  "metadata": {
    "colab": {
      "provenance": []
    },
    "kernelspec": {
      "name": "python3",
      "display_name": "Python 3"
    },
    "language_info": {
      "name": "python"
    }
  },
  "cells": [
    {
      "cell_type": "markdown",
      "source": [
        "Тема: РЕКОМЕНДАЦІЙНІ СИСТЕМИ"
      ],
      "metadata": {
        "id": "gWAQj1QhCJPm"
      }
    },
    {
      "cell_type": "markdown",
      "source": [
        "Завдання 1.\n",
        "1. Завантажте датасет для рецензій (ml-100k) за допомогою бібліотеки\n",
        "Surprise.\n"
      ],
      "metadata": {
        "id": "n3Ax0M9bCNkV"
      }
    },
    {
      "cell_type": "code",
      "execution_count": 17,
      "metadata": {
        "id": "cKQ5a0rz_RiY",
        "colab": {
          "base_uri": "https://localhost:8080/"
        },
        "outputId": "cbefdd2e-6bbf-4f73-c17b-ca0213f83a38"
      },
      "outputs": [
        {
          "output_type": "stream",
          "name": "stdout",
          "text": [
            "Dataset ml-100k could not be found. Do you want to download it? [Y/n] Y\n",
            "Trying to download dataset from https://files.grouplens.org/datasets/movielens/ml-100k.zip...\n",
            "Done! Dataset ml-100k has been saved to /root/.surprise_data/ml-100k\n"
          ]
        }
      ],
      "source": [
        "import pandas as pd\n",
        "from surprise import SVD, KNNBasic, accuracy, Dataset, Reader\n",
        "from surprise.model_selection import train_test_split, cross_validate, GridSearchCV\n",
        "from collections import defaultdict\n",
        "from surprise import Dataset\n",
        "\n",
        "# Load the movielens-100k dataset (download it if needed)\n",
        "data = Dataset.load_builtin('ml-100k')"
      ]
    },
    {
      "cell_type": "markdown",
      "source": [
        "2. Виведіть перші 5 рядків завантаженого датасету.\n"
      ],
      "metadata": {
        "id": "mlyuvE6PCU3g"
      }
    },
    {
      "cell_type": "code",
      "source": [
        "import pandas as pd\n",
        "\n",
        "# Load the raw data\n",
        "raw_data = data.raw_ratings\n",
        "df = pd.DataFrame(raw_data, columns=['user_id', 'item_id', 'rating', 'timestamp'])\n",
        "\n",
        "# Display the first 5 rows\n",
        "print(df.head())"
      ],
      "metadata": {
        "colab": {
          "base_uri": "https://localhost:8080/"
        },
        "id": "vsuXPpADCV4D",
        "outputId": "52b721d3-9b76-4fbe-bb7b-aea41a0268af"
      },
      "execution_count": 18,
      "outputs": [
        {
          "output_type": "stream",
          "name": "stdout",
          "text": [
            "  user_id item_id  rating  timestamp\n",
            "0     196     242     3.0  881250949\n",
            "1     186     302     3.0  891717742\n",
            "2      22     377     1.0  878887116\n",
            "3     244      51     2.0  880606923\n",
            "4     166     346     1.0  886397596\n"
          ]
        }
      ]
    },
    {
      "cell_type": "markdown",
      "source": [
        "3. Реалізуйте два алгоритми для рекомендаційної системи на основі цього\n",
        "датасету. Можна вибрати будь-які алгоритми з бібліотеки Surprise.\n"
      ],
      "metadata": {
        "id": "rwjEjMAdCWRi"
      }
    },
    {
      "cell_type": "code",
      "source": [
        "from surprise import SVD, KNNBasic\n",
        "from surprise.model_selection import train_test_split\n",
        "\n",
        "# Split the dataset into training and testing sets\n",
        "trainset, testset = train_test_split(data, test_size=0.25)\n",
        "\n",
        "# Initialize algorithms\n",
        "algo_svd = SVD()\n",
        "algo_knn = KNNBasic()\n",
        "\n",
        "# Train algorithms on the training set\n",
        "algo_svd.fit(trainset)\n",
        "algo_knn.fit(trainset)"
      ],
      "metadata": {
        "id": "YRKzzkAdCXyZ",
        "colab": {
          "base_uri": "https://localhost:8080/"
        },
        "outputId": "c266a467-71d4-4ae1-94d6-8d630c2c7e42"
      },
      "execution_count": 19,
      "outputs": [
        {
          "output_type": "stream",
          "name": "stdout",
          "text": [
            "Computing the msd similarity matrix...\n",
            "Done computing similarity matrix.\n"
          ]
        },
        {
          "output_type": "execute_result",
          "data": {
            "text/plain": [
              "<surprise.prediction_algorithms.knns.KNNBasic at 0x7fa7facf4c10>"
            ]
          },
          "metadata": {},
          "execution_count": 19
        }
      ]
    },
    {
      "cell_type": "markdown",
      "source": [
        "4. Використайте крос-валідацію для підбору оптимальних параметрів для\n",
        "обох алгоритмів.\n"
      ],
      "metadata": {
        "id": "m2s6Qo0KCYMJ"
      }
    },
    {
      "cell_type": "code",
      "source": [
        "from surprise.model_selection import GridSearchCV\n",
        "\n",
        "param_grid = {'n_epochs': [5, 10], 'lr_all': [0.002, 0.005], 'reg_all': [0.4, 0.6]}\n",
        "gs_svd = GridSearchCV(SVD, param_grid, measures=['rmse', 'mae'], cv=3)\n",
        "gs_knn = GridSearchCV(KNNBasic, param_grid, measures=['rmse', 'mae'], cv=3)\n",
        "\n",
        "gs_svd.fit(data)\n",
        "gs_knn.fit(data)\n",
        "\n",
        "# Best parameters and scores\n",
        "print(gs_svd.best_params['mae'], gs_svd.best_score['mae'])\n",
        "print(gs_knn.best_params['mae'], gs_knn.best_score['mae'])"
      ],
      "metadata": {
        "colab": {
          "base_uri": "https://localhost:8080/"
        },
        "id": "hwD0qCF4HiEc",
        "outputId": "dd25a463-31d9-48bc-fccf-f2f7434d3d8d"
      },
      "execution_count": 20,
      "outputs": [
        {
          "output_type": "stream",
          "name": "stdout",
          "text": [
            "Computing the msd similarity matrix...\n",
            "Done computing similarity matrix.\n",
            "Computing the msd similarity matrix...\n",
            "Done computing similarity matrix.\n",
            "Computing the msd similarity matrix...\n",
            "Done computing similarity matrix.\n",
            "Computing the msd similarity matrix...\n",
            "Done computing similarity matrix.\n",
            "Computing the msd similarity matrix...\n",
            "Done computing similarity matrix.\n",
            "Computing the msd similarity matrix...\n",
            "Done computing similarity matrix.\n",
            "Computing the msd similarity matrix...\n",
            "Done computing similarity matrix.\n",
            "Computing the msd similarity matrix...\n",
            "Done computing similarity matrix.\n",
            "Computing the msd similarity matrix...\n",
            "Done computing similarity matrix.\n",
            "Computing the msd similarity matrix...\n",
            "Done computing similarity matrix.\n",
            "Computing the msd similarity matrix...\n",
            "Done computing similarity matrix.\n",
            "Computing the msd similarity matrix...\n",
            "Done computing similarity matrix.\n",
            "Computing the msd similarity matrix...\n",
            "Done computing similarity matrix.\n",
            "Computing the msd similarity matrix...\n",
            "Done computing similarity matrix.\n",
            "Computing the msd similarity matrix...\n",
            "Done computing similarity matrix.\n",
            "Computing the msd similarity matrix...\n",
            "Done computing similarity matrix.\n",
            "Computing the msd similarity matrix...\n",
            "Done computing similarity matrix.\n",
            "Computing the msd similarity matrix...\n",
            "Done computing similarity matrix.\n",
            "Computing the msd similarity matrix...\n",
            "Done computing similarity matrix.\n",
            "Computing the msd similarity matrix...\n",
            "Done computing similarity matrix.\n",
            "Computing the msd similarity matrix...\n",
            "Done computing similarity matrix.\n",
            "Computing the msd similarity matrix...\n",
            "Done computing similarity matrix.\n",
            "Computing the msd similarity matrix...\n",
            "Done computing similarity matrix.\n",
            "Computing the msd similarity matrix...\n",
            "Done computing similarity matrix.\n",
            "{'n_epochs': 10, 'lr_all': 0.005, 'reg_all': 0.4} 0.7726427102257366\n",
            "{'n_epochs': 5, 'lr_all': 0.002, 'reg_all': 0.4} 0.7821887487623171\n"
          ]
        }
      ]
    },
    {
      "cell_type": "markdown",
      "source": [
        "5. Оберіть найкращий алгоритм на основі середньої абсолютної помилки\n",
        "(MAE).\n",
        "6. Виведи рекомендації (10 фільмів) для конкретного користувача."
      ],
      "metadata": {
        "id": "V5PYlrxqmfcT"
      }
    },
    {
      "cell_type": "code",
      "source": [
        "# Assume user_id is known (e.g., user_id = 196)\n",
        "user_id = 196\n",
        "\n",
        "# Get a list of all movie ids in the dataset\n",
        "all_movie_ids = df['item_id'].unique()\n",
        "\n",
        "# Predict ratings for all movies not yet rated by the user\n",
        "predictions = [algo_svd.predict(user_id, movie_id) for movie_id in all_movie_ids]\n",
        "\n",
        "# Sort predictions by estimated rating and get top 10 recommendations\n",
        "top_10_recommendations = sorted(predictions, key=lambda x: x.est, reverse=True)[:10]\n",
        "\n",
        "for recommendation in top_10_recommendations:\n",
        "    print(f\"Movie ID: {recommendation.iid}, Predicted Rating: {recommendation.est}\")"
      ],
      "metadata": {
        "colab": {
          "base_uri": "https://localhost:8080/"
        },
        "id": "s_mFf9-NIHZU",
        "outputId": "ff27035f-d61a-47b8-d01a-2ed3c24aed96"
      },
      "execution_count": 21,
      "outputs": [
        {
          "output_type": "stream",
          "name": "stdout",
          "text": [
            "Movie ID: 408, Predicted Rating: 4.607820856994448\n",
            "Movie ID: 169, Predicted Rating: 4.593368006566882\n",
            "Movie ID: 483, Predicted Rating: 4.557190100477164\n",
            "Movie ID: 318, Predicted Rating: 4.54262316906377\n",
            "Movie ID: 64, Predicted Rating: 4.5411138115349585\n",
            "Movie ID: 114, Predicted Rating: 4.484079797738376\n",
            "Movie ID: 603, Predicted Rating: 4.476550158842804\n",
            "Movie ID: 12, Predicted Rating: 4.464682732088896\n",
            "Movie ID: 178, Predicted Rating: 4.4378704666900886\n",
            "Movie ID: 357, Predicted Rating: 4.420773492685857\n"
          ]
        }
      ]
    }
  ]
}